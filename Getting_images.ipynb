{
 "cells": [
  {
   "attachments": {},
   "cell_type": "markdown",
   "metadata": {},
   "source": [
    "### Getting and Displaying Images from NASA\n",
    "\n",
    "This notebook shows the process of getting, displaying, and saving images from NASA's Image and Video Library to a dataset that can be edited and used for fine-tuning. To use this dataset, an API key is required. Once a key has been acquired thruogh a simple request process, the following instructions can be applied to access the images within the dataset: https://www.educative.io/blog/how-to-use-api-nasa-daily-image\n",
    "\n",
    "This will also requrie the use of a NASA created and managed packaged: nasapy. How to use nasapy is available here: https://nasapy.readthedocs.io/en/latest/ and here: https://nasapy.readthedocs.io/en/latest/api.html"
   ]
  },
  {
   "cell_type": "code",
   "execution_count": null,
   "metadata": {},
   "outputs": [],
   "source": [
    "\n",
    "#import libraries\n",
    "import nasapy #python wrapper for NASA API \n",
    "from nasapy import media_search\n",
    "import os #haven't used yet\n",
    "import matplotlib.pyplot as plt\n",
    "from skimage import io\n",
    "import pandas as pd"
   ]
  },
  {
   "cell_type": "code",
   "execution_count": null,
   "metadata": {},
   "outputs": [],
   "source": [
    "nasa_key = pd.read_csv(\"nasa_api_key.csv\")"
   ]
  },
  {
   "cell_type": "code",
   "execution_count": null,
   "metadata": {},
   "outputs": [],
   "source": [
    "url = \"http://images-api.nasa.gov/search?q=exoplanet/api_key=\"\n",
    "api_key = nasa_key['api_key']"
   ]
  },
  {
   "cell_type": "code",
   "execution_count": null,
   "metadata": {},
   "outputs": [],
   "source": [
    "nasa = nasapy.Nasa(key = api_key)"
   ]
  },
  {
   "attachments": {},
   "cell_type": "markdown",
   "metadata": {},
   "source": [
    "Now that the key is saved and ready to use, I can begin the process of querying NASA's dataset. The first step is to display the images from a search query. This allows me to select which images I want to save from the search, which is step two. The first part of this code has been adapted from this article: https://onelinerhub.com/python-pillow/how-to-load-an-image-from-url"
   ]
  },
  {
   "cell_type": "code",
   "execution_count": null,
   "metadata": {},
   "outputs": [],
   "source": [
    "#defining a function to intake image data and display it, so we can make sure our dataset \n",
    "#only includes the images we want it to\n",
    "\n",
    "def get_images(database_name):\n",
    "    for i, image in enumerate(database_name):\n",
    "        link_data = image['links']\n",
    "\n",
    "        for url in link_data:\n",
    "            image_url = url['href']\n",
    "            image_to_show = io.imread(image_url)\n",
    "            plt.imshow(image_to_show)\n",
    "            plt.xlabel(i)\n",
    "            plt.show()"
   ]
  },
  {
   "cell_type": "code",
   "execution_count": null,
   "metadata": {},
   "outputs": [],
   "source": [
    "#defining a function that takes in a list of the image indexes above we want to keep \n",
    "#and saves the data of those images to a new dictionary\n",
    "\n",
    "#keep = [] #fill this with the index of the image we want to keep, as a list\n",
    "\n",
    "keep_images = []\n",
    "def save_keep_images(database_name, keep_indexes):\n",
    "    for i, image in enumerate(database_name):\n",
    "        if i in keep_indexes:\n",
    "            keep_images.append(database_name[i])\n",
    "    return keep_images"
   ]
  },
  {
   "attachments": {},
   "cell_type": "markdown",
   "metadata": {},
   "source": [
    "Now that we have functions, we can begin getting data from multiple keyword searches with nasa's images database"
   ]
  },
  {
   "attachments": {},
   "cell_type": "markdown",
   "metadata": {},
   "source": [
    "### Searching Exoplanets"
   ]
  },
  {
   "cell_type": "code",
   "execution_count": null,
   "metadata": {},
   "outputs": [],
   "source": [
    "exoplanet_images = media_search(query=\"exoplanet\", media_type=\"image\")\n",
    "exoplanet_data = exoplanet_images['items']"
   ]
  },
  {
   "cell_type": "code",
   "execution_count": null,
   "metadata": {},
   "outputs": [],
   "source": [
    "get_images(exoplanet_data)"
   ]
  },
  {
   "cell_type": "code",
   "execution_count": null,
   "metadata": {},
   "outputs": [],
   "source": [
    "keep_indexes = [0, 35, 36, 37, 38, 39, 41, 42, 45, 46, 54, 55, 65]\n",
    "save_keep_images(exoplanet_data, keep_indexes)"
   ]
  },
  {
   "attachments": {},
   "cell_type": "markdown",
   "metadata": {},
   "source": [
    "### Searching Planets"
   ]
  },
  {
   "cell_type": "markdown",
   "metadata": {},
   "source": [
    "Media search was found here: https://nasapy.readthedocs.io/en/latest/api.html\n",
    "\n",
    "It was determined by using information found here: https://www.educative.io/blog/how-to-use-api-nasa-daily-image"
   ]
  },
  {
   "cell_type": "code",
   "execution_count": null,
   "metadata": {},
   "outputs": [],
   "source": [
    "planet_images = media_search(query=\"planet artist concept\", media_type=\"image\")\n",
    "planet_data = planet_images[\"items\"]"
   ]
  },
  {
   "cell_type": "code",
   "execution_count": null,
   "metadata": {},
   "outputs": [],
   "source": [
    "get_images(planet_data)"
   ]
  },
  {
   "cell_type": "code",
   "execution_count": null,
   "metadata": {},
   "outputs": [],
   "source": [
    "keep_indexes = [0, 1, 3, 4, 6, 7, 9, 10, 11, 12, 13, 14, 15, 18, 19, 20, 21, 25, 26, 35, 43, 45, 46, 47, 48, 51, 52, 53, 54, 55, 57, 59, 62, 69, 70, 71, 72, 73, 74, 76, 77, 80, 83, 84, 85, 86, 87, 92, 96]\n",
    "save_keep_images(planet_data, keep_indexes)"
   ]
  },
  {
   "cell_type": "code",
   "execution_count": null,
   "metadata": {},
   "outputs": [],
   "source": [
    "print(len(keep_images)) #makes sure all our images were saved correctly"
   ]
  },
  {
   "attachments": {},
   "cell_type": "markdown",
   "metadata": {},
   "source": [
    "### Searching Planet Photographs (near solar system)"
   ]
  },
  {
   "cell_type": "code",
   "execution_count": null,
   "metadata": {},
   "outputs": [],
   "source": [
    "planet_photos = media_search(query=\"planet photographs\", media_type=\"image\")\n",
    "planet_photo_data = planet_photos[\"items\"]"
   ]
  },
  {
   "cell_type": "code",
   "execution_count": null,
   "metadata": {},
   "outputs": [],
   "source": [
    "get_images(planet_photo_data)"
   ]
  },
  {
   "cell_type": "code",
   "execution_count": null,
   "metadata": {},
   "outputs": [],
   "source": [
    "keep_indexes = [4, 6, 14, 29, 77, 80, 87]\n",
    "save_keep_images(planet_photo_data, keep_indexes)"
   ]
  },
  {
   "cell_type": "code",
   "execution_count": null,
   "metadata": {},
   "outputs": [],
   "source": [
    "print(len(keep_images)) #making sure our images saved correctly"
   ]
  },
  {
   "attachments": {},
   "cell_type": "markdown",
   "metadata": {},
   "source": [
    "Now that I have images I can work with, I want to pull out only the information I need from them. First, let's take a look at the dataset"
   ]
  },
  {
   "cell_type": "code",
   "execution_count": null,
   "metadata": {},
   "outputs": [],
   "source": [
    "keep_images[2] #taking a look at a random image "
   ]
  },
  {
   "attachments": {},
   "cell_type": "markdown",
   "metadata": {},
   "source": [
    "By taking a look we can see that what we really need is the image description, held in the data key, the keywords (not sure if we really need them, but we're going to grab them just in case) held in the data key, and the image link held in the links key. Let's grab those and save them to a csv file we can edit and re-upload."
   ]
  },
  {
   "cell_type": "code",
   "execution_count": null,
   "metadata": {},
   "outputs": [],
   "source": [
    "#turning the dictionary to a dataframe so we can save it as a csv\n",
    "exoplanet_image_data = pd.DataFrame.from_dict(keep_images)"
   ]
  },
  {
   "cell_type": "code",
   "execution_count": null,
   "metadata": {},
   "outputs": [],
   "source": [
    "#taking a look at our data\n",
    "exoplanet_image_data \n",
    "#since we already have href, we can get rid of links and then we need to expand our data"
   ]
  },
  {
   "attachments": {},
   "cell_type": "markdown",
   "metadata": {},
   "source": [
    "The explode method was found here: https://saturncloud.io/blog/how-to-unnest-explode-a-column-in-a-pandas-dataframe/"
   ]
  },
  {
   "cell_type": "code",
   "execution_count": null,
   "metadata": {},
   "outputs": [],
   "source": [
    "#taking the explode method to be able to access the data values we want from our dataset\n",
    "exoplanet_image_data = exoplanet_image_data.explode('data')\n",
    "exoplanet_image_data = exoplanet_image_data.explode('links')"
   ]
  },
  {
   "cell_type": "code",
   "execution_count": null,
   "metadata": {},
   "outputs": [],
   "source": [
    "exoplanet_image_data #taking a look at our dataframe again "
   ]
  },
  {
   "cell_type": "code",
   "execution_count": null,
   "metadata": {},
   "outputs": [],
   "source": [
    "#first thing we need to do is drop the href as it's only the link to the json file and not to our image\n",
    "exoplanet_image_data = exoplanet_image_data.drop(['href'], axis=1)"
   ]
  },
  {
   "cell_type": "code",
   "execution_count": null,
   "metadata": {},
   "outputs": [],
   "source": [
    "#getting just our image descriptions\n",
    "image_description = []\n",
    "for d in exoplanet_image_data['data']:\n",
    "    image_description.append(d['description'])\n",
    "\n",
    "exoplanet_image_data['image_description'] = image_description"
   ]
  },
  {
   "cell_type": "code",
   "execution_count": null,
   "metadata": {},
   "outputs": [],
   "source": [
    "print(exoplanet_image_data['links'][0])"
   ]
  },
  {
   "cell_type": "code",
   "execution_count": null,
   "metadata": {},
   "outputs": [],
   "source": [
    "#getting just our image link\n",
    "image_link = []\n",
    "for l in exoplanet_image_data['links']:\n",
    "    print(l['href'])\n",
    "    image_link.append(l['href'])\n",
    "\n",
    "exoplanet_image_data['image_link'] = image_link"
   ]
  },
  {
   "cell_type": "code",
   "execution_count": null,
   "metadata": {},
   "outputs": [],
   "source": [
    "#get rid of the columns we no longer need\n",
    "exoplanet_image_data.drop([\"links\", \"data\"], axis=1)"
   ]
  },
  {
   "cell_type": "code",
   "execution_count": null,
   "metadata": {},
   "outputs": [],
   "source": [
    "#saving my dataframe to a csv file on my computer, so I can edit and update it to fit my NASA exoplanet data\n",
    "\n",
    "exoplanet_image_data.to_csv(\"exoplanet_image_data.csv\")"
   ]
  }
 ],
 "metadata": {
  "kernelspec": {
   "display_name": "pytorch",
   "language": "python",
   "name": "python3"
  },
  "language_info": {
   "codemirror_mode": {
    "name": "ipython",
    "version": 3
   },
   "file_extension": ".py",
   "mimetype": "text/x-python",
   "name": "python",
   "nbconvert_exporter": "python",
   "pygments_lexer": "ipython3",
   "version": "3.10.8 | packaged by conda-forge | (main, Nov 22 2022, 08:27:35) [Clang 14.0.6 ]"
  },
  "orig_nbformat": 4,
  "vscode": {
   "interpreter": {
    "hash": "867332fcff6d9ef60802a7aa280ca2e67d2157da374b31f12b9e31ff4c97c0fc"
   }
  }
 },
 "nbformat": 4,
 "nbformat_minor": 2
}
