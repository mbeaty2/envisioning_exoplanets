{
 "cells": [
  {
   "attachments": {},
   "cell_type": "markdown",
   "metadata": {},
   "source": [
    "## Prompt Generator\n",
    "\n",
    "This notebook contains code that will intake numerical data for our planets and output keywords that describe the planet, from size, look, type of star, etc. These keywords will then be put into a single prompt generator to produce a prompt for each planet to go into Stable Diffusion."
   ]
  },
  {
   "attachments": {},
   "cell_type": "markdown",
   "metadata": {},
   "source": [
    "I will have to work out how to handle when values are missing."
   ]
  },
  {
   "cell_type": "code",
   "execution_count": null,
   "metadata": {},
   "outputs": [],
   "source": [
    "import pandas as pd\n",
    "import numpy as np"
   ]
  },
  {
   "cell_type": "code",
   "execution_count": null,
   "metadata": {},
   "outputs": [],
   "source": [
    "#using our training data to test the model\n",
    "training_data = pd.read_csv(\"training_data.csv\")\n",
    "exoplanet_data = pd.read_csv(\"exoplanet_data.csv\")"
   ]
  },
  {
   "cell_type": "code",
   "execution_count": null,
   "metadata": {},
   "outputs": [],
   "source": [
    "training_data.head()"
   ]
  },
  {
   "cell_type": "code",
   "execution_count": null,
   "metadata": {},
   "outputs": [],
   "source": [
    "exoplanet_data.head()"
   ]
  },
  {
   "attachments": {},
   "cell_type": "markdown",
   "metadata": {},
   "source": [
    "As we can see there are a lot of NaN values. The first thing we need to do is take care of those. First, we need to go column by column to determine which columns have NaN values and how many. "
   ]
  },
  {
   "attachments": {},
   "cell_type": "markdown",
   "metadata": {},
   "source": [
    "# Preprocessing the training data"
   ]
  },
  {
   "cell_type": "code",
   "execution_count": null,
   "metadata": {},
   "outputs": [],
   "source": [
    "#we're going to drop the first row beacuse we do not need that\n",
    "training_data = training_data.drop('Unnamed: 0', axis=1)"
   ]
  },
  {
   "cell_type": "code",
   "execution_count": null,
   "metadata": {},
   "outputs": [],
   "source": [
    "#first thing we need to do is turn all NaN values to a numeric value, because we're going to turn all numeric columns from strings into floats\n",
    "training_data.fillna(0, inplace=True)"
   ]
  },
  {
   "cell_type": "code",
   "execution_count": null,
   "metadata": {},
   "outputs": [],
   "source": [
    "#checking NaN values by column and counting the total number in each column\n",
    "training_data.isna().sum()"
   ]
  },
  {
   "cell_type": "code",
   "execution_count": null,
   "metadata": {},
   "outputs": [],
   "source": [
    "#defining the columns we want to change to floats\n",
    "str_to_float_cols = ['pl_orbper', 'pl_orbsmax', 'pl_rade', 'pl_bmasse', 'pl_dens', 'pl_eqt', 'pl_imppar',\n",
    "                      'st_teff', 'st_rad', 'st_mass', 'sy_vmag']"
   ]
  },
  {
   "cell_type": "code",
   "execution_count": null,
   "metadata": {},
   "outputs": [],
   "source": [
    "#since some cells have special characters, we need to change the columns to floats like this\n",
    "for col in str_to_float_cols:\n",
    "    training_data[col] = training_data[col].astype(str).str.replace(',', '').astype('float32')"
   ]
  },
  {
   "cell_type": "code",
   "execution_count": null,
   "metadata": {},
   "outputs": [],
   "source": [
    "#double checking it worked\n",
    "print(type(training_data['st_teff'][1]))"
   ]
  },
  {
   "attachments": {},
   "cell_type": "markdown",
   "metadata": {},
   "source": [
    "# Preprocessing the exoplanet data"
   ]
  },
  {
   "cell_type": "code",
   "execution_count": null,
   "metadata": {},
   "outputs": [],
   "source": [
    "exoplanet_data = exoplanet_data.drop(0)"
   ]
  },
  {
   "cell_type": "code",
   "execution_count": null,
   "metadata": {},
   "outputs": [],
   "source": [
    "#first thing we need to do is turn all NaN values to a numeric value, because we're going to turn all numeric columns from strings into floats\n",
    "exoplanet_data.fillna(0, inplace=True)"
   ]
  },
  {
   "cell_type": "code",
   "execution_count": null,
   "metadata": {},
   "outputs": [],
   "source": [
    "exoplanet_data.isna().sum() #making sure there are no other nan values"
   ]
  },
  {
   "attachments": {},
   "cell_type": "markdown",
   "metadata": {},
   "source": [
    "Turning our numeric columns into numeric values, as they are currently strings. The columns we want to do are:\n",
    "* pl_rade\n",
    "* pl_bmasse\n",
    "* pl_dens\n",
    "* pl_eqt\n",
    "* pl_imppar\n",
    "* st_teff\n",
    "* st_rad\n",
    "* st_mass\n",
    "* sy_vmag"
   ]
  },
  {
   "cell_type": "code",
   "execution_count": null,
   "metadata": {},
   "outputs": [],
   "source": [
    "str_to_float_cols = ['pl_orbper', 'pl_orbsmax', 'pl_rade', 'pl_bmasse', 'pl_dens', 'pl_eqt', 'pl_imppar',\n",
    "                      'st_teff', 'st_rad', 'st_mass', 'sy_vmag']"
   ]
  },
  {
   "cell_type": "code",
   "execution_count": null,
   "metadata": {},
   "outputs": [],
   "source": [
    "exoplanet_data[str_to_float_cols]"
   ]
  },
  {
   "cell_type": "code",
   "execution_count": null,
   "metadata": {},
   "outputs": [],
   "source": [
    "#making all columns in our str_to_floats_cols list floats, we can do it like this because there are no special characters\n",
    "exoplanet_data[str_to_float_cols] = exoplanet_data[str_to_float_cols].apply(pd.to_numeric, downcast='float')"
   ]
  },
  {
   "cell_type": "code",
   "execution_count": null,
   "metadata": {},
   "outputs": [],
   "source": [
    "#double checking it worked\n",
    "print(type(exoplanet_data['st_teff'][1]))"
   ]
  },
  {
   "attachments": {},
   "cell_type": "markdown",
   "metadata": {},
   "source": [
    "Now that the data is pre-processed, work can commence to defining the descriptions for the various data points."
   ]
  },
  {
   "attachments": {},
   "cell_type": "markdown",
   "metadata": {},
   "source": [
    "## Getting Planet Information"
   ]
  },
  {
   "attachments": {},
   "cell_type": "markdown",
   "metadata": {},
   "source": [
    "The next thing that we want to do is determine what our planet is going to look like. For this, we need to determine 1) it's size, and 2) what type of planet is it (given it's distance from it's star, it's size, temperature, etc.). We'll start with size and go from there. "
   ]
  },
  {
   "attachments": {},
   "cell_type": "markdown",
   "metadata": {},
   "source": [
    "#### Planet Description"
   ]
  },
  {
   "attachments": {},
   "cell_type": "markdown",
   "metadata": {},
   "source": [
    "There are different exoplanet types categorized as such:\n",
    "* Terrestrial: earth-sized or smaller, mostly made of rock and metal. Half of earth's size to twice earth's size.\n",
    "* Super-Earth: typically \"terrestrial\" or rocky, but more massive than earth and lighter than neptune. They might or might not have atmospheres. Twice to 10 times the mass of earth. \n",
    "* Neptune-like: similar in size to neptune and uranus with hydrogen or helium dominated atmospheres. Mini neptunes are larger than earth, but smaller than neptune. Neptune is about 4 times the size of earth and 17 times as massive as earth. Uranus is 14 times as massive as earth. \n",
    "* Gas Giants: The size of saturn or much larger. They include \"hot\" jupiters. Jupiter is 11 times larger than earth and 318 times as massive, and saturn is 10 times larger than earth and 95 times more massive. \n",
    "\n",
    "This determines what category the planet falls under. The temperature (or we can calculate that with impact parameter if need be) determines what type of atmosphere the planet may have (if it is a black body). "
   ]
  },
  {
   "attachments": {},
   "cell_type": "markdown",
   "metadata": {},
   "source": [
    "## Get Planet Category\n",
    "\n",
    "In the below section, we are defining a function that will categorize our data into types of planets based on their mass or radius."
   ]
  },
  {
   "cell_type": "code",
   "execution_count": null,
   "metadata": {},
   "outputs": [],
   "source": [
    "def get_planet_category(dataset):\n",
    "    if dataset['pl_bmasse'].any() != 0.0:\n",
    "        conditions = [(dataset['pl_bmasse'] > 0.0) & (dataset['pl_bmasse'] <= 2.0),\n",
    "                    (dataset['pl_bmasse'] > 2.0) & (dataset['pl_bmasse'] <= 10.0),\n",
    "                    (dataset['pl_bmasse'] > 10.0) & (dataset['pl_bmasse'] <= 17.0),\n",
    "                    (dataset['pl_bmasse'] > 17.0),\n",
    "                    (dataset['pl_bmasse'] == 0.0)\n",
    "                    ]\n",
    "        \n",
    "        values = ['terrestrial', 'super-earth', 'neptune-like', 'gas-giant', 'unknown planet size']\n",
    "\n",
    "        dataset['planet_category'] = np.select(conditions, values, default='unknown')\n",
    "\n",
    "    elif dataset['pl_bmasse'].any() == 0.0 and dataset['pl_rade'] != 0.0:\n",
    "        conditions = [(dataset['pl_rade'] > 0.0) & (dataset['pl_rade'] <= 2.0),\n",
    "                    (dataset['pl_rade'] > 2.0) & (dataset['pl_rade'] <= 10.0),\n",
    "                    (dataset['pl_rade'] > 10.0) & (dataset['pl_rade'] <= 17.0),\n",
    "                    (dataset['pl_rade'] > 17.0), \n",
    "                    (dataset['pl_rade'] == 0.0)\n",
    "                    ]\n",
    "        \n",
    "        values = ['terrestrial', 'super-earth', 'neptune-like', 'gas-giant', 'unknown planet size']\n",
    "\n",
    "        dataset['planet_category'] = np.select(conditions, values, default='unknown')\n",
    "        \n",
    "    return dataset"
   ]
  },
  {
   "cell_type": "code",
   "execution_count": null,
   "metadata": {},
   "outputs": [],
   "source": [
    "exoplanet_data = get_planet_category(exoplanet_data)"
   ]
  },
  {
   "cell_type": "code",
   "execution_count": null,
   "metadata": {},
   "outputs": [],
   "source": [
    "training_data = get_planet_category(training_data)"
   ]
  },
  {
   "attachments": {},
   "cell_type": "markdown",
   "metadata": {},
   "source": [
    "## Getting Planet Size\n",
    "\n",
    "In most variations of our code, we will use the earth mass ratio already within our dataset to determine the size of the planet, however, in one instance of our training, we want to edit this to be not a numerical ratio, but a textual categorization. The below code does this for planets, we will do the same thing later on for our stars. "
   ]
  },
  {
   "cell_type": "code",
   "execution_count": null,
   "metadata": {},
   "outputs": [],
   "source": [
    "def planet_mass_description(dataset):\n",
    "    for index, data in dataset.iterrows():\n",
    "\n",
    "        mercury_mass = 0.0553\n",
    "        venus_mass = 0.815\n",
    "        earth_mass = 1.0\n",
    "        mars_mass = 0.107\n",
    "        jupiter_mass = 317.8\n",
    "        saturn_mass = 95.2\n",
    "        uranus_mass = 14.5\n",
    "        neptune_mass = 17.1\n",
    "\n",
    "        if data['pl_bmasse'] != 0:\n",
    "            if data['pl_bmasse'] <= mercury_mass:\n",
    "                dataset.at[index, 'planet_mass_description'] = 'tiny'\n",
    "            elif mercury_mass < data['pl_bmasse'] <= mars_mass:\n",
    "                dataset.at[index, 'planet_mass_description'] = 'very small'\n",
    "            elif mars_mass < data['pl_bmasse'] <= venus_mass:\n",
    "                dataset.at[index, 'planet_mass_description'] = 'small'\n",
    "            elif venus_mass < data['pl_bmasse'] <= earth_mass:\n",
    "                dataset.at[index, 'planet_mass_description'] = 'medium small'\n",
    "            elif uranus_mass < data['pl_bmasse'] <= neptune_mass:\n",
    "                dataset.at[index, 'planet_mass_description'] = 'medium'\n",
    "            elif neptune_mass < data['pl_bmasse'] <= saturn_mass:\n",
    "                dataset.at[index, 'planet_mass_description'] = 'large'\n",
    "            elif saturn_mass < data['pl_bmasse'] <= jupiter_mass:\n",
    "                dataset.at[index, 'planet_mass_description'] = 'giant'\n",
    "            elif jupiter_mass < data['pl_bmasse']:\n",
    "                dataset.at[index, 'planet_mass_description'] = 'massive'\n",
    "                \n",
    "        elif data['pl_bmasse'] == 0:\n",
    "            if data['planet_category'] == 'terrestrial':\n",
    "                dataset.at[index, 'planet_mass_description'] = 'small'\n",
    "            elif data['planet_category'] == 'super-earth':\n",
    "                dataset.at[index, 'planet_mass_description'] = 'medium'\n",
    "            elif data['planet_category'] == 'neptune-like':\n",
    "                dataset.at[index, 'planet_mass_description'] = 'large'\n",
    "            elif data['planet_category'] == 'gas-giant':\n",
    "                dataset.at[index, 'planet_mass_description'] = 'giant'\n",
    "\n",
    "        else:\n",
    "            dataset.at[index, 'planet_mass_description'] = 'unknown size'\n",
    "            \n",
    "    return dataset"
   ]
  },
  {
   "cell_type": "code",
   "execution_count": null,
   "metadata": {},
   "outputs": [],
   "source": [
    "exoplanet_data = planet_mass_description(exoplanet_data)"
   ]
  },
  {
   "cell_type": "code",
   "execution_count": null,
   "metadata": {},
   "outputs": [],
   "source": [
    "training_data = planet_mass_description(training_data)"
   ]
  },
  {
   "attachments": {},
   "cell_type": "markdown",
   "metadata": {},
   "source": [
    "## Getting Planet_Color Description\n",
    "\n",
    "With the below code, we are defining a function that will return the planet_color based on scientific backed research into the available data in our dataset."
   ]
  },
  {
   "cell_type": "code",
   "execution_count": null,
   "metadata": {},
   "outputs": [],
   "source": [
    "def get_planet_description(dataset):\n",
    "    for index, data in dataset.iterrows():\n",
    "        #mass of the planets in our solar system for comparative purposes\n",
    "        mercury_mass = 0.0553\n",
    "        venus_mass = 0.815\n",
    "        earth_mass = 1.0\n",
    "        mars_mass = 0.107\n",
    "        jupiter_mass = 317.8\n",
    "        saturn_mass = 95.2\n",
    "        uranus_mass = 14.5\n",
    "        neptune_mass = 17.1\n",
    "\n",
    "        if data['pl_eqt'] != 0.0: \n",
    "\n",
    "        #coding based on type of planet and planet temperature\n",
    "            if data['planet_category'] == 'terrestrial' or data['planet_category'] == 'super-earth':\n",
    "                if data['pl_eqt'] <= 20.0:\n",
    "                    dataset.at[index, 'planet_color'] = 'has a composition of hydrogen and helium producing a distince white color'\n",
    "                elif 20.0 < data['pl_eqt'] <= 200.0:\n",
    "                    dataset.at[index, 'planet_color'] = 'has high quantities of methane known for its rich blue color'\n",
    "                elif 200.0 < data['pl_eqt'] <= 400.0:\n",
    "                    dataset.at[index, 'planet_color'] = 'likely has a small amount of blue methane and yellow ammonia. The most dominant color would come from blue liquid water'\n",
    "                elif 400.0 < data['pl_eqt'] <= 600.0:\n",
    "                    dataset.at[index, 'planet_color'] = 'most likely has water vapor that still produces a true blue color mixing with the breakdown of methanes deep blue'\n",
    "                elif 600.0 < data['pl_eqt'] <= 800.0:\n",
    "                    dataset.at[index, 'planet_color'] = 'has carbon dioxide and hydrocarbons are dominant in this planet which could both come in varying shades of blue and white'\n",
    "                elif 800.0 < data['pl_eqt'] <= 1200.0:\n",
    "                    dataset.at[index, 'planet_color'] = 'has white carbon dioxide molecules and pale yellow sulfur compounds are likely on this planet'\n",
    "                elif 1200.0 < data['pl_eqt'] <= 1700.0:\n",
    "                    dataset.at[index, 'planet_color'] = 'has pale yellow sulfure compounds and blue and white water vapor are likely dominate on this planet'\n",
    "                elif 1700.0 < data['pl_eqt']:\n",
    "                    dataset.at[index, 'planet_color'] = 'is so hot all metals are breaking down causing the planet to likely be covered in lava'\n",
    "                \n",
    "            elif data['planet_category'] == 'neptune-like':\n",
    "                if data['pl_eqt'] <= 90.0:\n",
    "                    dataset.at[index, 'planet_color'] = 'consists mostly of helium and hydrogen which are dominantly white, but it mixes with frozen methane characterized by a light blue color'\n",
    "                elif 90.0 < data['pl_eqt'] <= 110.0:\n",
    "                    dataset.at[index, 'planet_color'] = 'has methane as a liquid and dominant in the atmosphere shifting the color to a azure blue color'\n",
    "                elif 110.0 < data['pl_eqt'] <= 275.0:\n",
    "                    dataset.at[index, 'planet_color'] = 'has methane as a gas and producing a deep blue color'\n",
    "                elif 275.0 < data['pl_eqt'] <= 375.0:\n",
    "                    dataset.at[index, 'planet_color'] = 'has a dark blue methane color mixing with water vapor clouds of a much lighter blue color and traces of ammonia as a light yellow color'\n",
    "                elif 375.0 < data['pl_eqt'] <= 500.0:\n",
    "                    dataset.at[index, 'planet_color'] = 'methane is breaking down and possibly mixing with other chemicals such as sulfur, known for its pale yellow color'\n",
    "                elif 500.0 < data['pl_eqt'] <= 800.0:\n",
    "                    dataset.at[index, 'planet_color'] = 'methane is breaking down, so the planet is likely no longer a deep blue, but hydrocarbons are likely present in the atmosphere, which depending on composition are varying shades of blue'\n",
    "                elif 800.0 < data['pl_eqt'] <= 900.0:\n",
    "                    dataset.at[index, 'planet_color'] = 'has deep blue methane is breaking down and less pronounced and likely to have alkali metals known for their silvery white color'\n",
    "                elif 900.0 < data['pl_eqt'] <= 1400.0:\n",
    "                    dataset.at[index, 'planet_color'] = 'has deep blue methane is breaking down and less pronounced, aerosols and thermal emissions are more likely and often give off a neutral or red color that would mix with the blue'\n",
    "                elif 1400.0 < data['pl_eqt']:\n",
    "                    dataset.at[index, 'planet_color'] = 'likely overtaken by aerosols and thermal emissions as well as high-temperature gases causing it to be between purple and red in color'\n",
    "            \n",
    "            elif data['planet_category'] == 'gas-giant':\n",
    "                if data['pl_eqt'] <= 70.0:\n",
    "                    dataset.at[index, 'planet_color'] = 'has frozen ammonia producing a duller yellow color merging with the more dominant methane, characterized by its shade of blue'\n",
    "                elif 70.0 < data['pl_eqt'] <= 150.0:\n",
    "                    dataset.at[index, 'planet_color'] = 'most likely overrun with ammonia clouds characterized by their variety of yellow coloring'\n",
    "                elif 150.0 < data['pl_eqt'] <= 250.0:\n",
    "                    dataset.at[index, 'planet_color'] = 'has methane in its blue color but in very small quantities. The dominant color will be ammonia, which is now a liquid giving the planet a darker yellow color closer to brown'\n",
    "                elif 250.0 < data['pl_eqt'] <= 350.0: \n",
    "                    dataset.at[index, 'planet_color'] = 'the atmosphere is overtaken with water vapor giving the planet a mostly white color with the posibility of slight blue tinting'\n",
    "                elif 350.0 < data['pl_eqt'] <= 800.0:\n",
    "                    dataset.at[index, 'planet_color'] = 'is so warm it likely does not have clouds and appears as a uniform blue orb'\n",
    "                elif 800.0 < data['pl_eqt'] <= 900.0:\n",
    "                    dataset.at[index, 'planet_color'] = 'is in transition from a blue atmosphere to being overtaken by carbon monoxide and alkali metals known for being silvery white'\n",
    "                elif 900.0 < data['pl_eqt']<= 1400.0:\n",
    "                    dataset.at[index, 'planet_color'] = 'has carbon monoxide and alkali metals like sodium and potassium as dominant, which known for their silvery white coloring'\n",
    "                elif 1400.0 < data['pl_eqt']:\n",
    "                    dataset.at[index, 'planet_color'] = 'is dominated by silicate and iron clouds most notably variations of red coloring'\n",
    "            \n",
    "            elif data['planet_category'] == 'unknown planet size':\n",
    "                dataset.at[index, 'planet_color'] = 'is an unknown planet color'\n",
    "            \n",
    "        \n",
    "        elif data['pl_eqt'] == 0.0 and data['pl_bmasse'] != 0.0: \n",
    "        #coding based on type of planet and mass\n",
    "            if data['pl_bmasse'] <= mercury_mass:\n",
    "                dataset.at[index, 'planet_color'] = 'is likely extremely hot and possibly covered in lava, primary composed of silicate minerals and oxides ranging in a variety of colors from silvery gray to a rich deep red'\n",
    "            elif mercury_mass < data['pl_bmasse'] <= mars_mass:\n",
    "                dataset.at[index, 'planet_color'] = 'is primarily composed of silicate minerals and oxides ranging in a variety of colors from silvery gray to a rich deep red'\n",
    "            elif mars_mass < data['pl_bmasse'] <= venus_mass:\n",
    "                dataset.at[index, 'planet_color'] = 'is primarily composed of silicate minerals and oxides ranging in a variety of colors from silvery gray to a rich deep red, as well as other gas chemicals such as carbon dioxide which produces a white color, and sulfur known for being a pale yellow'\n",
    "            elif venus_mass < data['pl_bmasse'] <= earth_mass:\n",
    "                dataset.at[index, 'planet_color'] = 'likely has a mixture of blue liquid water, and other gas chemicals such as carbon dioxide which produces a white color, and sulfur known for being pale yellow in color'\n",
    "            elif earth_mass < data['pl_bmasse']:\n",
    "                dataset.at[index, 'planet_color'] = 'likely has water vapor producing a blue color as well as helium and hydrogen, which both produce shades of white'\n",
    "            elif data['pl_bmasse'] <= uranus_mass:\n",
    "                dataset.at[index, 'planet_color'] = 'consisting mostly of helium and hydrogen which are dominantly white, but it mixes with frozen methane characterized by a light blue color'\n",
    "            elif uranus_mass < data['pl_bmasse'] <= neptune_mass:\n",
    "                dataset.at[index, 'planet_color'] = 'has methane as a liquid and dominant in the atmosphere shifting the color to a azure blue color'\n",
    "            elif neptune_mass < data['pl_bmasse']:\n",
    "                dataset.at[index, 'planet_color'] = 'has methane as a gas and producing a deep blue color'\n",
    "            elif data['pl_bmasse'] <= saturn_mass:\n",
    "                dataset.at[index, 'planet_color'] = 'has frozen ammonia producing a duller yellow color with slight traces of methane characterized by its shade of true blue'\n",
    "            elif saturn_mass < data['pl_bmasse'] <= jupiter_mass:\n",
    "                dataset.at[index, 'planet_color'] = 'is most likely overrun with ammonia clouds characterized by their variety of yellow coloring'\n",
    "            elif jupiter_mass < data['pl_bmasse']:\n",
    "                dataset.at[index, 'planet_color'] = 'has methane in its blue color but in very small quantities with the dominant color will be ammonia, which is now a liquid giving the planet a range of darker yellow and brown colors'\n",
    "\n",
    "        else:\n",
    "            if data['planet_category'] == 'terrestrial' or data['planet_category'] == 'super-earth':\n",
    "                dataset.at[index, 'planet_color'] = 'a rocky world made up of metals and rocks'\n",
    "            elif data['planet_category'] == 'neptune-like':\n",
    "                dataset.at[index, 'planet_color'] = 'an icy world composed of frozen gases'\n",
    "            elif data['planet_category'] == 'gas-giant':\n",
    "                dataset.at[index, 'planet_color'] = 'a giant world obscured by swirling gases'\n",
    "            elif data['planet_category'] == 'unknown planet size':\n",
    "                dataset.at[index, 'planet_color'] = 'has an unknown planet color'\n",
    "        \n",
    "    return dataset"
   ]
  },
  {
   "cell_type": "code",
   "execution_count": null,
   "metadata": {},
   "outputs": [],
   "source": [
    "exoplanet_data = get_planet_description(exoplanet_data)"
   ]
  },
  {
   "cell_type": "code",
   "execution_count": null,
   "metadata": {},
   "outputs": [],
   "source": [
    "training_data = get_planet_description(training_data)"
   ]
  },
  {
   "attachments": {},
   "cell_type": "markdown",
   "metadata": {},
   "source": [
    "## Shortened Description\n",
    "\n",
    "Here we are generating a shorter planet_color description to use as an option when testing."
   ]
  },
  {
   "cell_type": "code",
   "execution_count": null,
   "metadata": {},
   "outputs": [],
   "source": [
    "def get_planet_description_short(dataset):\n",
    "    for index, data in dataset.iterrows():\n",
    "        #need to code in the mass of all the planets in our solar system\n",
    "        mercury_mass = 0.0553\n",
    "        venus_mass = 0.815\n",
    "        earth_mass = 1.0\n",
    "        mars_mass = 0.107\n",
    "        jupiter_mass = 317.8\n",
    "        saturn_mass = 95.2\n",
    "        uranus_mass = 14.5\n",
    "        neptune_mass = 17.1\n",
    "\n",
    "        if data['pl_eqt'] != 0.0: \n",
    "\n",
    "        #coding based on type of planet and planet temperature\n",
    "            if data['planet_category'] == 'terrestrial' or data['planet_category'] == 'super-earth':\n",
    "                if data['pl_eqt'] <= 20.0:\n",
    "                    dataset.at[index, 'planet_color_short'] = 'is white in color'\n",
    "                elif 20.0 < data['pl_eqt'] <= 200.0:\n",
    "                    dataset.at[index, 'planet_color_short'] = 'is rich blue in color'\n",
    "                elif 200.0 < data['pl_eqt'] <= 400.0:\n",
    "                    dataset.at[index, 'planet_color_short'] = 'contains liquid water, and has traces of blue and yellow coloring'\n",
    "                elif 400.0 < data['pl_eqt'] <= 600.0:\n",
    "                    dataset.at[index, 'planet_color_short'] = 'is a shade of blue in color'\n",
    "                elif 600.0 < data['pl_eqt'] <= 800.0:\n",
    "                    dataset.at[index, 'planet_color_short'] = 'is a varying shade of blue and/or white'\n",
    "                elif 800.0 < data['pl_eqt'] <= 1200.0:\n",
    "                    dataset.at[index, 'planet_color_short'] = 'is white and pale yellow in color'\n",
    "                elif 1200.0 < data['pl_eqt'] <= 1700.0:\n",
    "                    dataset.at[index, 'planet_color_short'] = 'is mostly blue and white with possible pale yellow coloring'\n",
    "                elif 1700.0 < data['pl_eqt']:\n",
    "                    dataset.at[index, 'planet_color_short'] = 'is covered in lava'\n",
    "                \n",
    "            elif data['planet_category'] == 'neptune-like':\n",
    "                if data['pl_eqt'] <= 90.0:\n",
    "                    dataset.at[index, 'planet_color_short'] = 'is mostly white mixed with light blue in color'\n",
    "                elif 90.0 < data['pl_eqt'] <= 110.0:\n",
    "                    dataset.at[index, 'planet_color_short'] = 'is azure blue in color'\n",
    "                elif 110.0 < data['pl_eqt'] <= 275.0:\n",
    "                    dataset.at[index, 'planet_color_short'] = 'is a deep blue color'\n",
    "                elif 275.0 < data['pl_eqt'] <= 375.0:\n",
    "                    dataset.at[index, 'planet_color_short'] = 'is mostly a dark blue color mixing with light blue and pale yellow' \n",
    "                elif 375.0 < data['pl_eqt'] <= 500.0:\n",
    "                    dataset.at[index, 'planet_color_short'] = 'is a mixture of blue and yellow in color'\n",
    "                elif 500.0 < data['pl_eqt'] <= 800.0:\n",
    "                    dataset.at[index, 'planet_color_short'] = 'is a shade of blue' \n",
    "                elif 800.0 < data['pl_eqt'] <= 900.0:\n",
    "                    dataset.at[index, 'planet_color_short'] = 'is mostly blue mixing with a silvery white color'\n",
    "                elif 900.0 < data['pl_eqt'] <= 1400.0:\n",
    "                    dataset.at[index, 'planet_color_short'] = 'is mostly blue mixing with brown and red colors' \n",
    "                elif 1400.0 < data['pl_eqt']:\n",
    "                    dataset.at[index, 'planet_color_short'] = 'is between purple and red in color' \n",
    "            \n",
    "            elif data['planet_category'] == 'gas-giant':\n",
    "                if data['pl_eqt'] <= 70.0:\n",
    "                    dataset.at[index, 'planet_color_short'] = 'is pale yellow in color with slight traces of blue'\n",
    "                elif 70.0 < data['pl_eqt'] <= 150.0:\n",
    "                    dataset.at[index, 'planet_color_short'] = 'a shade of yellow in color' \n",
    "                elif 150.0 < data['pl_eqt'] <= 250.0:\n",
    "                    dataset.at[index, 'planet_color_short'] = 'a yellow brown in color with slight traces of blue' \n",
    "                elif 250.0 < data['pl_eqt'] <= 350.0: \n",
    "                    dataset.at[index, 'planet_color_short'] = 'mostly white in color with slight traces of blue' \n",
    "                elif 350.0 < data['pl_eqt'] <= 800.0:\n",
    "                    dataset.at[index, 'planet_color_short'] = 'a uniform blue in color' \n",
    "                elif 800.0 < data['pl_eqt'] <= 900.0:\n",
    "                    dataset.at[index, 'planet_color_short'] = 'is blue mixing with silvery white in color' \n",
    "                elif 900.0 < data['pl_eqt']<= 1400.0:\n",
    "                    dataset.at[index, 'planet_color_short'] = 'is mostly silvery white in color' \n",
    "                elif 1400.0 < data['pl_eqt']:\n",
    "                    dataset.at[index, 'planet_color_short'] = 'a shade of red in color' \n",
    "            \n",
    "            elif data['planet_category'] == 'unknown planet size':\n",
    "                dataset.at[index, 'planet_color_short'] = 'unknown planet color'\n",
    "            \n",
    "        \n",
    "        elif data['pl_eqt'] == 0.0 and data['pl_bmasse'] != 0.0: \n",
    "        #coding based on type of planet and mass\n",
    "            if data['pl_bmasse'] <= mercury_mass:\n",
    "                dataset.at[index, 'planet_color_short'] = 'is covered in lava and a shade of deep red to silvery gray in color' \n",
    "            elif mercury_mass < data['pl_bmasse'] <= mars_mass:\n",
    "                dataset.at[index, 'planet_color_short'] = 'a shade of deep red to silvery gray in color'\n",
    "            elif mars_mass < data['pl_bmasse'] <= venus_mass:\n",
    "                dataset.at[index, 'planet_color_short'] = 'is likely a shade of deep red to silvery gray with traces of white and pale yellow coloring' \n",
    "            elif venus_mass < data['pl_bmasse'] <= earth_mass:\n",
    "                dataset.at[index, 'planet_color_short'] = 'contains liquid water and possible white and yellow coloring'\n",
    "            elif earth_mass < data['pl_bmasse']:\n",
    "                dataset.at[index, 'planet_color_short'] = 'is mostly blue with traces of white coloring' \n",
    "            elif data['pl_bmasse'] <= uranus_mass:\n",
    "                dataset.at[index, 'planet_color_short'] = 'is light blue with traces of white coloring' \n",
    "            elif uranus_mass < data['pl_bmasse'] <= neptune_mass:\n",
    "                dataset.at[index, 'planet_color_short'] = 'an azure blue color'\n",
    "            elif neptune_mass < data['pl_bmasse']:\n",
    "                dataset.at[index, 'planet_color_short'] = 'a deep blue color'\n",
    "            elif data['pl_bmasse'] <= saturn_mass:\n",
    "                dataset.at[index, 'planet_color_short'] = 'a dull yellow color mixing with true blue'\n",
    "            elif saturn_mass < data['pl_bmasse'] <= jupiter_mass:\n",
    "                dataset.at[index, 'planet_color_short'] = 'a shade of yellow coloring'\n",
    "            elif jupiter_mass < data['pl_bmasse']:\n",
    "                dataset.at[index, 'planet_color_short'] = 'a darker yellow and brown color with possible blue'\n",
    "\n",
    "        else:\n",
    "            if data['planet_category'] == 'terrestrial' or data['planet_category'] == 'super-earth':\n",
    "                dataset.at[index, 'planet_color_short'] = 'is a rocky world made up of metals and rocks'\n",
    "            elif data['planet_category'] == 'neptune-like':\n",
    "                dataset.at[index, 'planet_color_short'] = 'is an icy world composed of frozen gases'\n",
    "            elif data['planet_category'] == 'gas-giant':\n",
    "                dataset.at[index, 'planet_color_short'] = 'is a giant world obscured by swirling gases'\n",
    "            elif data['planet_category'] == 'unknown planet size':\n",
    "                dataset.at[index, 'planet_color_short'] = 'ia an unknown planet color'\n",
    "        \n",
    "    return dataset"
   ]
  },
  {
   "cell_type": "code",
   "execution_count": null,
   "metadata": {},
   "outputs": [],
   "source": [
    "exoplanet_data = get_planet_description_short(exoplanet_data)"
   ]
  },
  {
   "cell_type": "code",
   "execution_count": null,
   "metadata": {},
   "outputs": [],
   "source": [
    "training_data = get_planet_description_short(training_data)"
   ]
  },
  {
   "attachments": {},
   "cell_type": "markdown",
   "metadata": {},
   "source": [
    "## Creating a Function to get Orbital Speed"
   ]
  },
  {
   "cell_type": "code",
   "execution_count": null,
   "metadata": {},
   "outputs": [],
   "source": [
    "def get_orbital_period(dataset):\n",
    "    for index, data in dataset.iterrows():\n",
    "        if data['pl_orbper'] == 0 and data['pl_orbsmax'] !=0:\n",
    "            orbit_distance = np.sqrt((data.loc['pl_orbsmax'])**3)\n",
    "            dataset.at[index, 'pl_orbper'] = orbit_distance\n",
    "    return dataset"
   ]
  },
  {
   "cell_type": "code",
   "execution_count": null,
   "metadata": {},
   "outputs": [],
   "source": [
    "exoplanet_data = get_orbital_period(exoplanet_data)"
   ]
  },
  {
   "cell_type": "code",
   "execution_count": null,
   "metadata": {},
   "outputs": [],
   "source": [
    "training_data = get_orbital_period(training_data)"
   ]
  },
  {
   "attachments": {},
   "cell_type": "markdown",
   "metadata": {},
   "source": [
    "# Creating a function to get planet spin"
   ]
  },
  {
   "cell_type": "code",
   "execution_count": null,
   "metadata": {},
   "outputs": [],
   "source": [
    "#adding in a spin column, as the faster a planet spins, the more turbulent it's weather and the more likely it is to have clouds, banding, etc. \n",
    "def get_planet_spin(dataset):\n",
    "    for index, data in dataset.iterrows():\n",
    "        #planet orbital periods\n",
    "        mercury_spin = 88\n",
    "        venus_spin = 224\n",
    "        earth_spin = 365\n",
    "        mars_spin = 687\n",
    "        jupiter_spin = 4332\n",
    "        saturn_spin = 10747\n",
    "        uranus_spin = 30589\n",
    "        neptune_spin = 59800 \n",
    "\n",
    "        #planet masses \n",
    "        mercury_mass = 0.0553\n",
    "        venus_mass = 0.815\n",
    "        earth_mass = 1.0\n",
    "        mars_mass = 0.107\n",
    "        jupiter_mass = 317.8\n",
    "        saturn_mass = 95.2\n",
    "        uranus_mass = 14.5\n",
    "        neptune_mass = 17.1\n",
    "\n",
    "        if data['pl_orbper'] != 0.0: #checking if there is an orbital period listed in the dataset\n",
    "            if data['planet_category'] == 'terrestrial' or data['planet_category'] == 'super-earth': \n",
    "                if data['pl_orbper'] <= mercury_spin:\n",
    "                    dataset.at[index, 'planet_spin'] = 'is hot and rotating quickly with little to no atmosphere, clouds, or storms'\n",
    "                elif mercury_spin < data['pl_orbper'] <= venus_spin:\n",
    "                    dataset.at[index, 'planet_spin'] = 'is hot and rotating quickly hot with a thick atmosphere of heavy swirling clouds with bright and dark markings'\n",
    "                elif venus_spin < data['pl_orbper'] <= earth_spin:\n",
    "                    dataset.at[index, 'planet_spin'] = 'has clouds of various sizes speckling planet atmosphere showing pieces of the planet terrain beneath'\n",
    "                elif earth_spin < data['pl_orbper'] <= mars_spin:\n",
    "                    dataset.at[index, 'planet_spin'] = 'has clouds of various sizes speckling planet atmosphere showing pieces of the planet terrain beneath'\n",
    "                elif mars_spin < data['pl_orbper']:\n",
    "                    dataset.at[index, 'planet_spin'] = 'has wisps of clouds of various sizes speckling planet atmosphere showing most of the planet terrain beneath'\n",
    "            elif data['planet_category'] == 'neptune-like':\n",
    "                if data['pl_orbper'] <= uranus_spin:\n",
    "                    dataset.at[index, 'planet_spin'] = 'has clearly defined striped light and dark icy clouds'\n",
    "                elif uranus_spin < data['pl_orbper'] <= neptune_spin:\n",
    "                    dataset.at[index, 'planet_spin'] = 'has softly defined striped light and dark icy clouds'\n",
    "                elif neptune_spin < data['pl_orbper']:\n",
    "                    dataset.at[index, 'planet_spin'] = 'has icy clouds with no apparent delineation between colors'\n",
    "            elif data['planet_category'] == 'gas-giant':\n",
    "                if data['pl_orbper'] <= jupiter_spin:\n",
    "                    dataset.at[index, 'planet_spin'] = 'has stripes of thick clouds of various coloring defined by clear, sharp edges'\n",
    "                elif jupiter_spin < data['pl_orbper'] <= saturn_spin:\n",
    "                    dataset.at[index, 'planet_spin'] = 'has stripes of thick clouds of various coloring defined by softened edges'\n",
    "                elif saturn_spin < data['pl_orbper']:\n",
    "                    dataset.at[index, 'planet_spin'] = 'has thick clouds of various coloring blending together across the planet surface'\n",
    "        elif data['pl_orbper'] == 0.0:  #if zero go off planet mass and compare to the planets in our solar system\n",
    "            if data['planet_category'] == 'terrestrial' or data['planet_category'] == 'super-earth': \n",
    "                if data['pl_bmasse'] <= mercury_mass:\n",
    "                    dataset.at[index, 'planet_spin'] = 'is hot and rotating quickly with little to no atmosphere, clouds, or storms'\n",
    "                elif mercury_mass < data['pl_bmasse'] <= venus_mass:\n",
    "                    dataset.at[index, 'planet_spin'] = 'is hot and rotating quickly with a thick atmosphere of heavy swirling clouds with bright and dark markings'\n",
    "                elif venus_mass < data['pl_bmasse'] <= earth_mass:\n",
    "                    dataset.at[index, 'planet_spin'] = 'has clouds of various sizes speckling planet atmosphere showing pieces of the planet terrain beneath'\n",
    "                elif earth_mass < data['pl_bmasse'] <= mars_mass:\n",
    "                    dataset.at[index, 'planet_spin'] = 'has clouds of various sizes speckling planet atmosphere showing pieces of the planet terrain beneath'\n",
    "                elif mars_mass < data['pl_bmasse']:\n",
    "                    dataset.at[index, 'planet_spin'] = 'has wisps of clouds of various sizes speckling planet atmosphere showing most of the planet terrain beneath'\n",
    "            elif data['planet_category'] == 'neptune-like':\n",
    "                if data['pl_bmasse'] <= uranus_mass:\n",
    "                    dataset.at[index, 'planet_spin'] = 'has clearly defined striped light and dark icy clouds'\n",
    "                elif uranus_mass < data['pl_bmasse'] <= neptune_mass:\n",
    "                    dataset.at[index, 'planet_spin'] = 'has softly defined striped light and dark icy clouds'\n",
    "                elif neptune_mass < data['pl_bmasse']:\n",
    "                    dataset.at[index, 'planet_spin'] = 'has icy clouds with no apparent delineation between colors'\n",
    "            elif data['planet_category'] == 'gas-giant':\n",
    "                if data['pl_bmasse'] <= jupiter_mass:\n",
    "                    dataset.at[index, 'planet_spin'] = 'has stripes of thick clouds of various coloring defined by clear, sharp edges'\n",
    "                elif jupiter_mass < data['pl_bmasse'] <= saturn_mass:\n",
    "                    dataset.at[index, 'planet_spin'] = 'has stripes of thick clouds of various coloring defined by softened edges'\n",
    "                elif saturn_mass < data['pl_bmasse']:\n",
    "                    dataset.at[index, 'planet_spin'] = 'has thick clouds of various coloring blending together across the planet surface'\n",
    "            else:\n",
    "                dataset.at[index, 'planet_spin'] = 'rotates around its star'\n",
    "\n",
    "    return dataset"
   ]
  },
  {
   "cell_type": "code",
   "execution_count": null,
   "metadata": {},
   "outputs": [],
   "source": [
    "exoplanet_data = get_planet_spin(exoplanet_data)"
   ]
  },
  {
   "cell_type": "code",
   "execution_count": null,
   "metadata": {},
   "outputs": [],
   "source": [
    "training_data = get_planet_spin(training_data)"
   ]
  },
  {
   "cell_type": "code",
   "execution_count": null,
   "metadata": {},
   "outputs": [],
   "source": [
    "#adding in a spin column, as the faster a planet spins, the more turbulent it's weather and the more likely it is to have clouds, banding, etc. \n",
    "#this is the shortened description for the shorter prompt\n",
    "def get_planet_spin_short(dataset):\n",
    "    for index, data in dataset.iterrows():\n",
    "        #planet orbit periods\n",
    "        mercury_spin = 88\n",
    "        venus_spin = 224\n",
    "        earth_spin = 365\n",
    "        mars_spin = 687\n",
    "        jupiter_spin = 4332\n",
    "        saturn_spin = 10747\n",
    "        uranus_spin = 30589\n",
    "        neptune_spin = 59800 \n",
    "\n",
    "        #planet masses\n",
    "        mercury_mass = 0.0553\n",
    "        venus_mass = 0.815\n",
    "        earth_mass = 1.0\n",
    "        mars_mass = 0.107\n",
    "        jupiter_mass = 317.8\n",
    "        saturn_mass = 95.2\n",
    "        uranus_mass = 14.5\n",
    "        neptune_mass = 17.1\n",
    "\n",
    "        if data['pl_orbper'] != 0.0: #checking if there is an orbital period listed in the dataset\n",
    "            if data['planet_category'] == 'terrestrial' or data['planet_category'] == 'super-earth': \n",
    "                if data['pl_orbper'] <= mercury_spin:\n",
    "                    dataset.at[index, 'planet_spin_short'] = 'is hot and rotating quickly with little to no clouds'\n",
    "                elif mercury_spin < data['pl_orbper'] <= venus_spin:\n",
    "                    dataset.at[index, 'planet_spin_short'] = 'is hot and rotating quickly hot with swirling clouds of light and dark markings'\n",
    "                elif venus_spin < data['pl_orbper'] <= earth_spin:\n",
    "                    dataset.at[index, 'planet_spin_short'] = 'has clouds of various sizes'\n",
    "                elif earth_spin < data['pl_orbper'] <= mars_spin:\n",
    "                    dataset.at[index, 'planet_spin_short'] = 'has clouds of various sizes'\n",
    "                elif mars_spin < data['pl_orbper']:\n",
    "                    dataset.at[index, 'planet_spin_short'] = 'has thin clouds of various sizes'\n",
    "            elif data['planet_category'] == 'neptune-like':\n",
    "                if data['pl_orbper'] <= uranus_spin:\n",
    "                    dataset.at[index, 'planet_spin_short'] = 'has clearly defined striped light and dark clouds'\n",
    "                elif uranus_spin < data['pl_orbper'] <= neptune_spin:\n",
    "                    dataset.at[index, 'planet_spin_short'] = 'has softly defined striped light and dark clouds'\n",
    "                elif neptune_spin < data['pl_orbper']:\n",
    "                    dataset.at[index, 'planet_spin_short'] = 'has cloud colors blending together'\n",
    "            elif data['planet_category'] == 'gas-giant':\n",
    "                if data['pl_orbper'] <= jupiter_spin:\n",
    "                    dataset.at[index, 'planet_spin_short'] = 'has clear, sharp-edge stripes of thick clouds'\n",
    "                elif jupiter_spin < data['pl_orbper'] <= saturn_spin:\n",
    "                    dataset.at[index, 'planet_spin_short'] = 'has soft-edged stripes of thick clouds'\n",
    "                elif saturn_spin < data['pl_orbper']:\n",
    "                    dataset.at[index, 'planet_spin_short'] = 'has thick clouds of various coloring blending together'\n",
    "        elif data['pl_orbper'] == 0.0:  #if zero go off planet mass and compare to the planets in our solar system\n",
    "            if data['planet_category'] == 'terrestrial' or data['planet_category'] == 'super-earth': \n",
    "                if data['pl_bmasse'] <= mercury_mass:\n",
    "                    dataset.at[index, 'planet_spin_short'] = 'is hot and rotating quickly with little to no clouds'\n",
    "                elif mercury_mass < data['pl_bmasse'] <= venus_mass:\n",
    "                    dataset.at[index, 'planet_spin_short'] = 'is hot and rotating quickly hot with swirling clouds of light and dark markings'\n",
    "                elif venus_mass < data['pl_bmasse'] <= earth_mass:\n",
    "                    dataset.at[index, 'planet_spin_short'] = 'has thick clouds of various sizes'\n",
    "                elif earth_mass < data['pl_bmasse'] <= mars_mass:\n",
    "                    dataset.at[index, 'planet_spin_short'] = 'has thick clouds of various sizes'\n",
    "                elif mars_mass < data['pl_bmasse']:\n",
    "                    dataset.at[index, 'planet_spin_short'] = 'has thin clouds of various sizes'\n",
    "            elif data['planet_category'] == 'neptune-like':\n",
    "                if data['pl_bmasse'] <= uranus_mass:\n",
    "                    dataset.at[index, 'planet_spin_short'] = 'has clearly defined striped light and dark clouds'\n",
    "                elif uranus_mass < data['pl_bmasse'] <= neptune_mass:\n",
    "                    dataset.at[index, 'planet_spin_short'] = 'has softly defined striped light and dark icy clouds'\n",
    "                elif neptune_mass < data['pl_bmasse']:\n",
    "                    dataset.at[index, 'planet_spin_short'] = 'has cloud colors blending together'\n",
    "            elif data['planet_category'] == 'gas-giant':\n",
    "                if data['pl_bmasse'] <= jupiter_mass:\n",
    "                    dataset.at[index, 'planet_spin_short'] = 'has clear, sharp-edge stripes of thick clouds'\n",
    "                elif jupiter_mass < data['pl_bmasse'] <= saturn_mass:\n",
    "                    dataset.at[index, 'planet_spin_short'] = 'has soft-edged stripes of thick clouds'\n",
    "                elif saturn_mass < data['pl_bmasse']:\n",
    "                    dataset.at[index, 'planet_spin_short'] = 'has thick clouds of various coloring blending together'\n",
    "            else:\n",
    "                dataset.at[index, 'planet_spin_short'] = 'rotates around its star'\n",
    "\n",
    "    return dataset"
   ]
  },
  {
   "cell_type": "code",
   "execution_count": null,
   "metadata": {},
   "outputs": [],
   "source": [
    "exoplanet_data = get_planet_spin_short(exoplanet_data)"
   ]
  },
  {
   "cell_type": "code",
   "execution_count": null,
   "metadata": {},
   "outputs": [],
   "source": [
    "training_data = get_planet_spin_short(training_data)"
   ]
  },
  {
   "attachments": {},
   "cell_type": "markdown",
   "metadata": {},
   "source": [
    "## Star and Planet Size as a Ratio\n",
    "\n",
    "One way we want to define stellar and planet size (to be used for one of the four prompts) is as a ratio between the two. The below code defines this. "
   ]
  },
  {
   "cell_type": "code",
   "execution_count": null,
   "metadata": {},
   "outputs": [],
   "source": [
    "#creating a new column to hold solar size as a ratio to planet size as a percentage for our test dataset\n",
    "exoplanet_data['stellar_planet_ratio'] = exoplanet_data.apply(lambda row: \n",
    "                                                            ((row.st_mass / (row.pl_bmasse)) * 100) \n",
    "                                                            if row.st_mass !=0 and row.pl_bmasse !=0 else 0, axis=1)"
   ]
  },
  {
   "cell_type": "code",
   "execution_count": null,
   "metadata": {},
   "outputs": [],
   "source": [
    "#creating a new column to hold solar size as a ratio to planet size as a percentage for our training dataset\n",
    "training_data['stellar_planet_ratio'] = training_data.apply(lambda row: \n",
    "                                                            ((row.st_mass / (row.pl_bmasse)) * 100) \n",
    "                                                            if row.st_mass !=0 and row.pl_bmasse !=0 else 0, axis=1)"
   ]
  },
  {
   "attachments": {},
   "cell_type": "markdown",
   "metadata": {},
   "source": [
    "## Tidal Locked Planets\n",
    "\n",
    "The below code predicts whether a planet is tidal locked. Tidally locked planets happen when eccentricity is close to zero, it is usually calculated when the rotation of a planet is the same as the orbital period of the planet, however, we do not have enough information to determine the rotation of a planet (you need the angular velocity which we do not have). Another way of doing it is by calculating the roche limit and determining if the imppact parameter is less than that. If it is, it is likely the planet is tidal locked. The below code determines the planet's roche limit and compares it to the pl_imppar to determine whether the planet is tidal locked or not. If the planet does not have the information to determine the roche limit or the pl_imppar, this field is ignored in the prompt generation. "
   ]
  },
  {
   "cell_type": "code",
   "execution_count": null,
   "metadata": {},
   "outputs": [],
   "source": [
    "#getting the roche limit so we can determine if a planet is tidal locked or not\n",
    " \n",
    "exoplanet_data['roche_limit'] = exoplanet_data.apply(lambda row: \n",
    "    (1.26 * row.pl_rade * (row.st_mass / row.pl_bmasse) ** (1/3))\n",
    "    if row.st_mass != 0 and row.pl_bmasse != 0 else 0, axis=1)"
   ]
  },
  {
   "cell_type": "code",
   "execution_count": null,
   "metadata": {},
   "outputs": [],
   "source": [
    "training_data['roche_limit'] = training_data.apply(lambda row: \n",
    "    (1.26 * row.pl_rade * (row.st_mass / row.pl_bmasse) ** (1/3))\n",
    "    if row.st_mass != 0 and row.pl_bmasse != 0 else 0, axis=1)"
   ]
  },
  {
   "cell_type": "code",
   "execution_count": null,
   "metadata": {},
   "outputs": [],
   "source": [
    "#determining if a planet is tidally locked or not\n",
    "def tidal_locking(dataset):\n",
    "    for index, data in dataset.iterrows():\n",
    "        if data['pl_imppar'] != 0.0 or data['pl_orbsmax'] != 0.0:\n",
    "            if data['pl_imppar'] or data['pl_orbsmax'] < data['roche_limit']:\n",
    "                dataset.at[index, 'tidal_locked'] = 'only has one side of the planet facing the sun. The side facing the sun is extremely hot and the side that faces away from the sun is dark and cold'\n",
    "            \n",
    "            elif data['pl_imppar'] or data['pl_orbsmax'] >= data['roche_limit']:\n",
    "                dataset.at[index, 'tidal_locked'] = 'spins around its orbit so both sides get heat from the sun'\n",
    "            \n",
    "        else:\n",
    "            dataset.at[index, 'tidal_locked'] = 0.0\n",
    "\n",
    "    return dataset"
   ]
  },
  {
   "cell_type": "code",
   "execution_count": null,
   "metadata": {},
   "outputs": [],
   "source": [
    "exoplanet_data = tidal_locking(exoplanet_data)"
   ]
  },
  {
   "cell_type": "code",
   "execution_count": null,
   "metadata": {},
   "outputs": [],
   "source": [
    "training_data = tidal_locking(training_data)"
   ]
  },
  {
   "attachments": {},
   "cell_type": "markdown",
   "metadata": {},
   "source": [
    "## Getting Star Information"
   ]
  },
  {
   "attachments": {},
   "cell_type": "markdown",
   "metadata": {},
   "source": [
    "We know from above that there are 3,540 missing spectral types in our dataset"
   ]
  },
  {
   "attachments": {},
   "cell_type": "markdown",
   "metadata": {},
   "source": [
    "We can determine star type by a few values. Temperature, mass, and magnitude, however are the best ways.\n",
    "We'll be using the Harvard Spectral Classification, which classifies stars based on temperature.\n",
    "Stellar classifications include:\n",
    "* M - temperature: <3500, color: orange red - light orange red \n",
    "* K - temperature: 3500-5000, color: light orange - pale yellow\n",
    "* G - temperature: 5000-6000,  yellow - yellow-white\n",
    "* F - temperature: 6000-7500, yellow-white - white\n",
    "* A - temperature: 7500-11000 - white - blue-white\n",
    "* B - temperature: 11000 - 25000 - blue-white - deep-blue-white\n",
    "* O - temperature: 25000-100000 - blue\n",
    "* White-Dwarf - temperature: >100000, color: white\n",
    "\n",
    "Note this is just giving us color! We will use star mass to then determine size. \n"
   ]
  },
  {
   "attachments": {},
   "cell_type": "markdown",
   "metadata": {},
   "source": [
    "#### Stellar Color"
   ]
  },
  {
   "cell_type": "code",
   "execution_count": null,
   "metadata": {},
   "outputs": [],
   "source": [
    "#make all instances of 0 in st_spectype floats\n",
    "training_data['st_spectype'] = training_data['st_spectype'].apply(lambda x: float(x) if x == 0 else x)"
   ]
  },
  {
   "cell_type": "code",
   "execution_count": null,
   "metadata": {},
   "outputs": [],
   "source": [
    "def get_stellar_color(dataset):  \n",
    "    for index, data in dataset.iterrows():\n",
    "        if data['st_spectype'] != 0:\n",
    "            #harvard standard spectral classifications\n",
    "            if data['st_spectype'][0] == 'M' or data['st_spectype'][0] == 'm':\n",
    "                dataset.at[index, 'stellar_color'] = 'orange red'\n",
    "            elif data['st_spectype'][0] == 'K':\n",
    "                dataset.at[index, 'stellar_color'] = 'light orange'\n",
    "            elif data['st_spectype'][0] == 'G':\n",
    "                dataset.at[index, 'stellar_color'] = 'yellow'\n",
    "            elif data['st_spectype'][0] == 'F':\n",
    "                dataset.at[index, 'stellar_color'] = 'yellow white'\n",
    "            elif data['st_spectype'][0] == 'A':\n",
    "                dataset.at[index, 'stellar_color'] = 'white'\n",
    "            elif data['st_spectype'][0] == 'B':\n",
    "                dataset.at[index, 'stellar_color'] = 'blue white'\n",
    "            elif data['st_spectype'][0] == 'O':\n",
    "                dataset.at[index, 'stellar_color'] = 'blue'\n",
    "            #special case star classifications \n",
    "            elif data['st_spectype'][0] == 'T': #late stage brown dwarf \n",
    "                dataset.at[index, 'stellar_color'] = 'violet'\n",
    "            elif data['st_spectype'][0] == 'L': #early stage brown dwarf \n",
    "                dataset.at[index, 'stellar_color'] = 'magenta'\n",
    "            elif data['st_spectype'] == 'WD' or data['st_spectype'][0] == 'D': #white dwarf\n",
    "                dataset.at[index, 'stellar_color'] = 'white'\n",
    "            elif data['st_spectype'][0] == 's':\n",
    "                if data['st_teff'] <= 3500.0:\n",
    "                    dataset.at[index, 'stellar_color'] = 'orange red'\n",
    "                elif 3500.0 < data['st_teff'] <= 5000.0:\n",
    "                    dataset.at[index, 'stellar_color'] = 'light orange'\n",
    "                elif 5000.0 < data['st_teff'] <= 6000.0:\n",
    "                    dataset.at[index, 'stellar_color'] = 'yellow'\n",
    "                elif  6000.0 < data['st_teff'] <= 7500.0:\n",
    "                    dataset.at[index, 'stellar_color'] = 'yellow white'\n",
    "                elif 7500.0 < data['st_teff'] <= 11000.0:\n",
    "                    dataset.at[index, 'stellar_color'] = 'white'\n",
    "                elif 11000.0 < data['st_teff'] <= 25000.0:\n",
    "                    dataset.at[index, 'stellar_color'] = 'blue white'\n",
    "                elif 25000.0 < data['st_teff'] <= 100000.0:\n",
    "                    dataset.at[index, 'stellar_color'] = 'blue'\n",
    "                elif 100000.0 < data['st_teff']:\n",
    "                    dataset.at[index, 'stellar_color'] = 'white'\n",
    "                       \n",
    "        elif data['st_spectype'] == 0:\n",
    "            #print(dataset.at[index, 'st_spectype'])\n",
    "            if data['st_teff'] <= 3500.0:\n",
    "                dataset.at[index, 'stellar_color'] = 'orange red'\n",
    "            elif 3500.0 < data['st_teff'] <= 5000.0:\n",
    "                dataset.at[index, 'stellar_color'] = 'light orange'\n",
    "            elif 5000.0 < data['st_teff'] <= 6000.0:\n",
    "                dataset.at[index, 'stellar_color'] = 'yellow'\n",
    "            elif  6000.0 < data['st_teff'] <= 7500.0:\n",
    "                dataset.at[index, 'stellar_color'] = 'yellow white'\n",
    "            elif 7500.0 < data['st_teff'] <= 11000.0:\n",
    "                dataset.at[index, 'stellar_color'] = 'white'\n",
    "            elif 11000.0 < data['st_teff'] <= 25000.0:\n",
    "                dataset.at[index, 'stellar_color'] = 'blue white'\n",
    "            elif 25000.0 < data['st_teff'] <= 100000.0:\n",
    "                dataset.at[index, 'stellar_color'] = 'blue'\n",
    "            elif 100000.0 < data['st_teff']:\n",
    "                dataset.at[index, 'stellar_color'] = 'white'\n",
    "\n",
    "        elif data['st_spectype'] == 0 & data['st_teff'] == 0:\n",
    "            #print(dataset.at[index, 'st_spectype'])\n",
    "            if data['st_mass'] <= 0.45:\n",
    "                dataset.at[index, 'stellar_color'] = 'orange red'\n",
    "            elif 0.45 < data['st_mass'] <= 0.8:\n",
    "                dataset.at[index, 'stellar_color'] = 'light orange'\n",
    "            elif 0.8 < data['st_mass'] <= 1.04:\n",
    "                dataset.at[index, 'stellar_color'] = 'yellow'\n",
    "            elif  1.04 < data['st_mass'] <= 1.4:\n",
    "                dataset.at[index, 'stellar_color'] = 'yellow white'\n",
    "            elif 1.4 < data['st_mass'] <= 2.1:\n",
    "                dataset.at[index, 'stellar_color'] = 'white'\n",
    "            elif 2.1 < data['st_mass'] <= 16:\n",
    "                dataset.at[index, 'stellar_color'] = 'blue white'\n",
    "            elif 16 < data['st_mass']:\n",
    "                dataset.at[index, 'stellar_color'] = 'blue'\n",
    "\n",
    "        else:\n",
    "            dataset.at[index, 'stellar_color'] = 'unknown stellar color'\n",
    "            \n",
    "    return dataset"
   ]
  },
  {
   "cell_type": "code",
   "execution_count": null,
   "metadata": {},
   "outputs": [],
   "source": [
    "exoplanet_data = get_stellar_color(exoplanet_data)"
   ]
  },
  {
   "cell_type": "code",
   "execution_count": null,
   "metadata": {},
   "outputs": [],
   "source": [
    "print(exoplanet_data['stellar_color'].value_counts())"
   ]
  },
  {
   "cell_type": "code",
   "execution_count": null,
   "metadata": {},
   "outputs": [],
   "source": [
    "training_data = get_stellar_color(training_data)"
   ]
  },
  {
   "cell_type": "code",
   "execution_count": null,
   "metadata": {},
   "outputs": [],
   "source": [
    "#taking a look at how well our above function worked\n",
    "print(training_data['stellar_color'].value_counts())"
   ]
  },
  {
   "attachments": {},
   "cell_type": "markdown",
   "metadata": {},
   "source": [
    "#### Stellar Size: As a Description\n"
   ]
  },
  {
   "attachments": {},
   "cell_type": "markdown",
   "metadata": {},
   "source": [
    "Now that we have stellar color, we need to get descriptive words for stellar size. The stellar sizes are typically associated with their classification, which includes things like mass, temperature, radius, color. The easiest thing for us to do, is actually to use stellar classification again. We'll actually want to use it when we run through our function above. This mean's we're going to have to hard code in all of the different types of stars in our dataset and make special adjustments for the special cases like white dwarfs, red giants, etc. \n",
    "\n",
    "When we go through star sizes, all of the stellar sizes are associated with a particular classification and are also generalized by temperature (so also color) and mass. The most accurate way, however, is mass. We're going to use three different types of mass classifications. One, is going to use the mass value (which is quantified by it's relationship to the size of our sun) as a percentage. Second, is translating these size categories to adjectives. \n",
    "\n",
    "For the first option, we are going to use the st_mass defined already in our dataset. This does not require any additional code.\n",
    "\n",
    "For the second option, we are going to create a new column at the same time as creating our stellar_color column above. We will associate the following key words to each type of star: \n",
    "\n",
    "D/WD (white dwarf) = tiny\n",
    "T/L (brown dwarf) = tiny\n",
    "s (sub dwarf) = tiny\n",
    "M = very small\n",
    "K = small\n",
    "G = medium small\n",
    "F = medium\n",
    "A = large\n",
    "B = giant\n",
    "O = massive\n",
    "\n",
    "For the third option, we are going to use the same ratio between planet and star size defined above. These three are mirrored by the planet's size categories and will be put together for the prompt generation. \n"
   ]
  },
  {
   "cell_type": "code",
   "execution_count": null,
   "metadata": {},
   "outputs": [],
   "source": [
    "def stellar_mass_description(dataset):\n",
    "    for index, data in dataset.iterrows():\n",
    "        st_spectype = str(data['st_spectype'])\n",
    "        if st_spectype[0] == 'W' or st_spectype[0] == 'D' or st_spectype[0] == 'L' or st_spectype[0] == 'T' or st_spectype[0] == 's':\n",
    "            dataset.at[index, 'stellar_mass_description'] = 'tiny'\n",
    "        elif data['stellar_color'] == 'orange red':\n",
    "            dataset.at[index, 'stellar_mass_description'] = 'very small'\n",
    "        elif data['stellar_color'] == 'light orange':\n",
    "            dataset.at[index, 'stellar_mass_description'] = 'small'\n",
    "        elif data['stellar_color'] == 'yellow':\n",
    "            dataset.at[index, 'stellar_mass_description'] = 'medium small'\n",
    "        elif data['stellar_color'] == 'yellow white':\n",
    "            dataset.at[index, 'stellar_mass_description'] = 'medium'\n",
    "        elif data['stellar_color'] == 'white':\n",
    "            dataset.at[index, 'stellar_mass_description'] = 'large'\n",
    "        elif data['stellar_color'] == 'blue white':\n",
    "            dataset.at[index, 'stellar_mass_description'] = 'giant'\n",
    "        elif data['stellar_color'] == 'blue':\n",
    "            dataset.at[index, 'stellar_mass_description'] = 'massive'\n",
    "        else:\n",
    "            dataset.at[index, 'stellar_mass_description'] = 'unknown size'\n",
    "    return dataset"
   ]
  },
  {
   "cell_type": "code",
   "execution_count": null,
   "metadata": {},
   "outputs": [],
   "source": [
    "exoplanet_data = stellar_mass_description(exoplanet_data)"
   ]
  },
  {
   "cell_type": "code",
   "execution_count": null,
   "metadata": {},
   "outputs": [],
   "source": [
    "training_data = stellar_mass_description(training_data)"
   ]
  },
  {
   "attachments": {},
   "cell_type": "markdown",
   "metadata": {},
   "source": [
    "### Creating the Image Prompt"
   ]
  },
  {
   "attachments": {},
   "cell_type": "markdown",
   "metadata": {},
   "source": [
    "When we make our description we need to make sure we are not only listing the star and the planet descriptions, but we also want to list if there are any other stars in the solar system, any other planets, and if there are any moons. "
   ]
  },
  {
   "attachments": {},
   "cell_type": "markdown",
   "metadata": {},
   "source": [
    "The foundation format:\n",
    "\n",
    "\"A solar system made up of {sy_pnum} planet(s), {sy_snum} star(s), and {sy_mnum} moon(s). This {planet_category} planet is {pl_bmasse} the size of earth, {planet_color}, and {planet_spin}. This planet {tidal_locked}. The planet\\'s star is {stellar_color} and {st_mass} the size of our sun.\""
   ]
  },
  {
   "cell_type": "code",
   "execution_count": null,
   "metadata": {},
   "outputs": [],
   "source": [
    "def get_prompts(dataset):\n",
    "    for index, data in dataset.iterrows():\n",
    "\n",
    "        pl_bmasse_int = int(data['pl_bmasse']) #realized it looked kinda messy as floats, so we're making them integers before running them through our prompt generator\n",
    "        #also means we are getting rid of this f\"{data['pl_bmasse']} times\" if data['pl_bmasse'] != 0 else \"an unknown size compared to\" and this f\"{data['st_mass']} times\" if 'st_mass' != 0 else \"an unknown size compared to\"\n",
    "        st_mass_int = int(data['st_mass'])\n",
    "\n",
    "        #creating a prompt with star size and planet size as numbers (our foundation prompt)\n",
    "        dataset.at[index, 'mass_prompt'] = \"A solar system made up of {} planet(s), {} star(s), and {} moon(s). This {} planet is {} the size of earth, {} and {}. This planet {}. The planet\\'s star is {} and {} the size of the sun.\".format(\n",
    "            data['sy_pnum'], data['sy_snum'], data['sy_mnum'], data['planet_category'], f\"{pl_bmasse_int} times\" if pl_bmasse_int != 0 else \"an unknown size compared to\", data['planet_color'], data['planet_spin'], f\"{data['tidal_locked']}\" if data['tidal_locked'] != 0 else 'has an unknown spin', data['stellar_color'], f\"{st_mass_int} times\" if st_mass_int != 0 else \"an unknown size compared to\")\n",
    "\n",
    "        #creating a prompt with star size and planet size as a ratio\n",
    "        dataset.at[index, 'ratio_prompt'] = \"A solar system made up of {} planet(s), {} star(s), and {} moon(s). This {} planet is {} the size of earth, {} and {}. This planet {}. The planet\\'s star is {} and {} the size of it\\'s planet.\".format(\n",
    "            data['sy_pnum'], data['sy_snum'], data['sy_mnum'], data['planet_category'], f\"{pl_bmasse_int} times\" if pl_bmasse_int != 0 else \"an unknown size compared to\", data['planet_color'], data['planet_spin'], f\"{data['tidal_locked']}\" if data['tidal_locked'] != 0 else 'has an unknown spin', data['stellar_color'], data['stellar_planet_ratio'])\n",
    "\n",
    "        #creating a prompt with star and planet size as text\n",
    "        dataset.at[index, 'size_text_prompt'] = \"A solar system made up of {} planet(s), {} star(s), and {} moon(s). This {} {} planet {}. This planet {}. The planet\\'s star is {} and {}.\".format(\n",
    "            data['sy_pnum'], data['sy_snum'], data['sy_mnum'], data['planet_mass_description'], data['planet_category'], data['planet_color'], data['planet_spin'], f\"{data['tidal_locked']}\" if data['tidal_locked'] != 0 else 'has an unknown spin', data['stellar_color'], data['stellar_mass_description'])\n",
    "        \n",
    "        #creating a prompt with 75 tokens\n",
    "        dataset.at[index, '75_tokens'] = 'A {}, {} star with a {}, {} planet. The planet {}, {}, and {}'.format(data['stellar_color'], data['stellar_mass_description'], data['planet_mass_description'], data['planet_category'], data['planet_color_short'], data['planet_spin_short'], data['tidal_locked'])\n",
    "\n",
    "    return dataset"
   ]
  },
  {
   "cell_type": "code",
   "execution_count": null,
   "metadata": {},
   "outputs": [],
   "source": [
    "exoplanet_data = get_prompts(exoplanet_data)"
   ]
  },
  {
   "cell_type": "code",
   "execution_count": null,
   "metadata": {},
   "outputs": [],
   "source": [
    "training_data = get_prompts(training_data)"
   ]
  },
  {
   "attachments": {},
   "cell_type": "markdown",
   "metadata": {},
   "source": [
    "# Saving the Datasets To Our Computer to Use for Traininga and Testing"
   ]
  },
  {
   "cell_type": "code",
   "execution_count": null,
   "metadata": {},
   "outputs": [],
   "source": [
    "exoplanet_data.to_csv('exoplanet_data_prompts.csv')"
   ]
  },
  {
   "cell_type": "code",
   "execution_count": null,
   "metadata": {},
   "outputs": [],
   "source": [
    "training_data.to_csv('training_data_prompts.csv')"
   ]
  }
 ],
 "metadata": {
  "kernelspec": {
   "display_name": "AIM",
   "language": "python",
   "name": "python3"
  },
  "language_info": {
   "codemirror_mode": {
    "name": "ipython",
    "version": 3
   },
   "file_extension": ".py",
   "mimetype": "text/x-python",
   "name": "python",
   "nbconvert_exporter": "python",
   "pygments_lexer": "ipython3",
   "version": "3.9.15"
  },
  "orig_nbformat": 4,
  "vscode": {
   "interpreter": {
    "hash": "3e1d740a1bd074433c52fcc3575b30da5da4324de7af753bcf37d054dabb77f1"
   }
  }
 },
 "nbformat": 4,
 "nbformat_minor": 2
}
